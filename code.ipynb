{
  "nbformat": 4,
  "nbformat_minor": 0,
  "metadata": {
    "accelerator": "GPU",
    "colab": {
      "name": "Untitled10.ipynb",
      "provenance": [],
      "authorship_tag": "ABX9TyM41aGJJ0BCdWsJoAZJuWRm",
      "include_colab_link": true
    },
    "kernelspec": {
      "display_name": "Python 3",
      "name": "python3"
    },
    "language_info": {
      "name": "python"
    }
  },
  "cells": [
    {
      "cell_type": "markdown",
      "metadata": {
        "id": "view-in-github",
        "colab_type": "text"
      },
      "source": [
        "<a href=\"https://colab.research.google.com/github/sairamadithya/fashion_mnist/blob/main/code.ipynb\" target=\"_parent\"><img src=\"https://colab.research.google.com/assets/colab-badge.svg\" alt=\"Open In Colab\"/></a>"
      ]
    },
    {
      "cell_type": "markdown",
      "metadata": {
        "id": "Q3nzegtwDX51"
      },
      "source": [
        "STEPS FOLLOWED IN THIS NOTEBOOK\n",
        "1. IMPORTING ESSENTIAL LIBRARIES\n",
        "\n",
        "2. DATA SPLITTING AND TRANSFORMING\n",
        "\n",
        "3. MODEL CREATION\n",
        "\n",
        "4. MODEL COMPILATION\n",
        "\n",
        "5. MODEL TRAINING\n",
        "\n",
        "6. MODEL EVALUATION\n",
        "\n",
        "7. MODEL PREDICTION"
      ]
    },
    {
      "cell_type": "markdown",
      "metadata": {
        "id": "5nOQWSiLDZ6j"
      },
      "source": [
        "# IMPORTING ESSENTIAL LIBRARIES\n",
        "\n",
        "i am using the tensorflow keras library to build,train and test the model. \n",
        "also the cifar-10 dataset is present in the keras library\n",
        "\n",
        "FASHION MNIST\n",
        "\n",
        "fashion mnist is like that of the mnist but contains images of dresses instead of  of images of 10 dress classes which are arranged alphabetically. they are \n",
        "\n",
        "'T-shirt/top'\n",
        "\n",
        "'Trouser'\n",
        "\n",
        "'Pullover'\n",
        "\n",
        "'Dress'\n",
        "\n",
        "'Coat'\n",
        "\n",
        "'Sandal'\n",
        "\n",
        "'Shirt'\n",
        "\n",
        "'Sneaker'\n",
        "\n",
        "'Bag'\n",
        "\n",
        "'Ankle boot']\n",
        "\n",
        "this dataset contains about 60000 images of the size 28*28 and are grayscale images and is a very good dataset for starters\n"
      ]
    },
    {
      "cell_type": "code",
      "metadata": {
        "id": "PLK95trCPUgT"
      },
      "source": [
        "import numpy as np\n",
        "import matplotlib.pyplot as plt\n",
        "import tensorflow as tf\n",
        "from keras import Sequential\n",
        "from keras.layers import *\n",
        "from keras.preprocessing import image\n",
        "from keras.datasets import fashion_mnist\n",
        "from tensorflow.keras.utils import to_categorical"
      ],
      "execution_count": 1,
      "outputs": []
    },
    {
      "cell_type": "markdown",
      "metadata": {
        "id": "4T-HDfrhEo2A"
      },
      "source": [
        "# DATA SPILTTING AND TRANSFORMING\n",
        "\n",
        "since there are 60000 images as a whole we have to split them into training and testing. \n",
        "\n",
        "x- images y-classes (labels)\n",
        "\n",
        "all colours in the universe have values in the range of (0,255) where white is 0 and black is 255.\n",
        "\n",
        "we apply a trnsformaton to the training and testing images x so as to convert the range of (0,255) to (0,1)\n",
        "\n",
        "since the y contains labels it cannot be used by the model.so it is essential to convert them into vectors by using the to_categorical"
      ]
    },
    {
      "cell_type": "code",
      "metadata": {
        "colab": {
          "base_uri": "https://localhost:8080/"
        },
        "id": "w4qnmxRQP0GC",
        "outputId": "97e9525f-f784-4dc5-b35b-4bdf43e7b591"
      },
      "source": [
        "(xtrain,ytrain),(xtest,ytest)= tf.keras.datasets.fashion_mnist.load_data()"
      ],
      "execution_count": 2,
      "outputs": [
        {
          "output_type": "stream",
          "text": [
            "Downloading data from https://storage.googleapis.com/tensorflow/tf-keras-datasets/train-labels-idx1-ubyte.gz\n",
            "32768/29515 [=================================] - 0s 0us/step\n",
            "Downloading data from https://storage.googleapis.com/tensorflow/tf-keras-datasets/train-images-idx3-ubyte.gz\n",
            "26427392/26421880 [==============================] - 0s 0us/step\n",
            "Downloading data from https://storage.googleapis.com/tensorflow/tf-keras-datasets/t10k-labels-idx1-ubyte.gz\n",
            "8192/5148 [===============================================] - 0s 0us/step\n",
            "Downloading data from https://storage.googleapis.com/tensorflow/tf-keras-datasets/t10k-images-idx3-ubyte.gz\n",
            "4423680/4422102 [==============================] - 0s 0us/step\n"
          ],
          "name": "stdout"
        }
      ]
    },
    {
      "cell_type": "code",
      "metadata": {
        "id": "WpSfoc_IP92W"
      },
      "source": [
        "x_train= xtrain/255.0\n",
        "x_test= xtest/255.0\n",
        "x_train = np.expand_dims(x_train, -1) #done for grayscale images to remove one dimension\n",
        "x_test = np.expand_dims(x_test, -1) \n",
        "y_train= to_categorical(ytrain, 10) #to convert class vectors into categorical vectors\n",
        "y_test= to_categorical(ytest, 10)"
      ],
      "execution_count": 3,
      "outputs": []
    },
    {
      "cell_type": "code",
      "metadata": {
        "colab": {
          "base_uri": "https://localhost:8080/"
        },
        "id": "CPRqsfZ1TUSy",
        "outputId": "d5a76274-58aa-4ee2-e3f2-cd39f01b8d34"
      },
      "source": [
        "x_train.shape"
      ],
      "execution_count": 4,
      "outputs": [
        {
          "output_type": "execute_result",
          "data": {
            "text/plain": [
              "(60000, 28, 28, 1)"
            ]
          },
          "metadata": {
            "tags": []
          },
          "execution_count": 4
        }
      ]
    },
    {
      "cell_type": "markdown",
      "metadata": {
        "id": "aCr5ZevaEsEt"
      },
      "source": [
        "#MODEL CREATION\n",
        "\n",
        "the sequential of the keras is used to create a blank/empty model upon which the layers are stacked upon\n",
        "\n",
        "the convolutional neural network consists of the three layers namely the convolution, pooling and dense\n",
        "\n",
        "convolution= they scan the image in which the filters slide onto the input image and perform mathematical operations. they extract features from the image\n",
        "\n",
        "pooling= these layers are used to perform some mathematial computations and also reduce the parameters\n",
        "\n",
        "dense- these layers do the classification process. these layers are similar to those in the ANN (artificial neural network)\n",
        "\n",
        "the dropout layer is used to reduce overfitting (the deviation of testing curves from the training). this cuts off some of the connections in between layers. this is one of the stratergies adopted to prevent overfitting\n",
        "\n",
        "the gaussian noise is also used to prevent overfitting. adding noises to the input is an efficient technique to prevent overfitting"
      ]
    },
    {
      "cell_type": "code",
      "metadata": {
        "colab": {
          "base_uri": "https://localhost:8080/"
        },
        "id": "QchJNR4kQecN",
        "outputId": "39edcd98-a2c3-4eb6-9c15-127528883290"
      },
      "source": [
        "model=Sequential()\n",
        "model.add(Conv2D(32,kernel_size=(3,3),activation='relu',padding='same',input_shape=(28,28,1)))\n",
        "model.add(Conv2D(32,kernel_size=(3,3),activation='relu',padding='same'))\n",
        "model.add(MaxPooling2D(pool_size=(2,2)))\n",
        "model.add(Dropout(0.15))\n",
        "model.add(BatchNormalization())\n",
        "model.add(Conv2D(64,kernel_size=(3,3),activation='relu',padding='same'))\n",
        "model.add(Conv2D(64,kernel_size=(3,3),activation='relu',padding='same'))\n",
        "model.add(MaxPooling2D(pool_size=(2,2)))\n",
        "model.add(Dropout(0.15))\n",
        "model.add(BatchNormalization())\n",
        "model.add(GaussianNoise(0.25))\n",
        "model.add(Flatten())\n",
        "model.add(Dense(64,activation='relu'))\n",
        "model.add(Dropout(0.15))\n",
        "model.add(BatchNormalization())\n",
        "model.add(GaussianNoise(0.25))\n",
        "model.add(Dense(10,activation='softmax'))\n",
        "model.summary()"
      ],
      "execution_count": 5,
      "outputs": [
        {
          "output_type": "stream",
          "text": [
            "Model: \"sequential\"\n",
            "_________________________________________________________________\n",
            "Layer (type)                 Output Shape              Param #   \n",
            "=================================================================\n",
            "conv2d (Conv2D)              (None, 28, 28, 32)        320       \n",
            "_________________________________________________________________\n",
            "conv2d_1 (Conv2D)            (None, 28, 28, 32)        9248      \n",
            "_________________________________________________________________\n",
            "max_pooling2d (MaxPooling2D) (None, 14, 14, 32)        0         \n",
            "_________________________________________________________________\n",
            "dropout (Dropout)            (None, 14, 14, 32)        0         \n",
            "_________________________________________________________________\n",
            "batch_normalization (BatchNo (None, 14, 14, 32)        128       \n",
            "_________________________________________________________________\n",
            "conv2d_2 (Conv2D)            (None, 14, 14, 64)        18496     \n",
            "_________________________________________________________________\n",
            "conv2d_3 (Conv2D)            (None, 14, 14, 64)        36928     \n",
            "_________________________________________________________________\n",
            "max_pooling2d_1 (MaxPooling2 (None, 7, 7, 64)          0         \n",
            "_________________________________________________________________\n",
            "dropout_1 (Dropout)          (None, 7, 7, 64)          0         \n",
            "_________________________________________________________________\n",
            "batch_normalization_1 (Batch (None, 7, 7, 64)          256       \n",
            "_________________________________________________________________\n",
            "gaussian_noise (GaussianNois (None, 7, 7, 64)          0         \n",
            "_________________________________________________________________\n",
            "flatten (Flatten)            (None, 3136)              0         \n",
            "_________________________________________________________________\n",
            "dense (Dense)                (None, 64)                200768    \n",
            "_________________________________________________________________\n",
            "dropout_2 (Dropout)          (None, 64)                0         \n",
            "_________________________________________________________________\n",
            "batch_normalization_2 (Batch (None, 64)                256       \n",
            "_________________________________________________________________\n",
            "gaussian_noise_1 (GaussianNo (None, 64)                0         \n",
            "_________________________________________________________________\n",
            "dense_1 (Dense)              (None, 10)                650       \n",
            "=================================================================\n",
            "Total params: 267,050\n",
            "Trainable params: 266,730\n",
            "Non-trainable params: 320\n",
            "_________________________________________________________________\n"
          ],
          "name": "stdout"
        }
      ]
    },
    {
      "cell_type": "markdown",
      "metadata": {
        "id": "ZxCnZkpYE-FD"
      },
      "source": [
        "# MODEL COMPILATION\n",
        "\n",
        "the loss or error is defined as the difference between the actual and predicted outputs. an ideal model is the one which has zero loss. the function of the optimiser is to find the optimum values of parameters so that the loss is minimum. it does it by finding the gradient of the parameter with the output and updating the values based on the gradient. the metrics parameter can be used to track the efficieny of the model\n",
        "\n",
        "the optimiser used here is adam and the loss function is crossentropy. the metrics used is accuracy"
      ]
    },
    {
      "cell_type": "code",
      "metadata": {
        "id": "hi6RFBLpSRsx"
      },
      "source": [
        "model.compile(optimizer='Adam',loss='categorical_crossentropy',metrics=['accuracy'])"
      ],
      "execution_count": 6,
      "outputs": []
    },
    {
      "cell_type": "markdown",
      "metadata": {
        "id": "h-7EWAdhFCjV"
      },
      "source": [
        "# MODEL TRAINING\n",
        "\n",
        "here i have used two callbacks namely the modelcheckpoint and the earlystopping\n",
        "\n",
        "the modelcheckpoint is used to save the model with the best weights so that we need not train the model but we can load the model\n",
        "\n",
        "the earlystopping is used to halt the training process so as to find the ideal number of epochs. this is one of the stratergies to prevent overfitting\n",
        "\n",
        "the formula to be followed while training a model:-\n",
        "\n",
        "(steps_per_epoch)*(batch size)= number of training images\n",
        "\n",
        "there are 50000 training images, so a batch size of 32 requires 1875 steps_per_epoch"
      ]
    },
    {
      "cell_type": "code",
      "metadata": {
        "colab": {
          "base_uri": "https://localhost:8080/"
        },
        "id": "5VH-uT0ySdaa",
        "outputId": "c627a4c3-81f4-4f32-b1c4-cc66a4cef2c2"
      },
      "source": [
        "\n",
        "from keras.callbacks import ModelCheckpoint\n",
        "from keras.callbacks import EarlyStopping\n",
        "mp= ModelCheckpoint('mymodel.hdf5',save_best_only=True)\n",
        "es= EarlyStopping(monitor='val_loss',patience=5)\n",
        "callbacks= [mp,es]\n",
        "history= model.fit(\n",
        "         x_train,\n",
        "         y_train,\n",
        "         steps_per_epoch=1875,\n",
        "         epochs=10,\n",
        "         batch_size=32,\n",
        "         validation_data= (x_test,y_test),\n",
        "         callbacks=callbacks\n",
        ")"
      ],
      "execution_count": 7,
      "outputs": [
        {
          "output_type": "stream",
          "text": [
            "Epoch 1/10\n",
            "1875/1875 [==============================] - 55s 5ms/step - loss: 0.5695 - accuracy: 0.7998 - val_loss: 0.3136 - val_accuracy: 0.8856\n",
            "Epoch 2/10\n",
            "1875/1875 [==============================] - 8s 4ms/step - loss: 0.2874 - accuracy: 0.8960 - val_loss: 0.2822 - val_accuracy: 0.8950\n",
            "Epoch 3/10\n",
            "1875/1875 [==============================] - 9s 5ms/step - loss: 0.2441 - accuracy: 0.9116 - val_loss: 0.2126 - val_accuracy: 0.9220\n",
            "Epoch 4/10\n",
            "1875/1875 [==============================] - 9s 5ms/step - loss: 0.2191 - accuracy: 0.9209 - val_loss: 0.2005 - val_accuracy: 0.9259\n",
            "Epoch 5/10\n",
            "1875/1875 [==============================] - 8s 4ms/step - loss: 0.1929 - accuracy: 0.9294 - val_loss: 0.2109 - val_accuracy: 0.9234\n",
            "Epoch 6/10\n",
            "1875/1875 [==============================] - 8s 4ms/step - loss: 0.1840 - accuracy: 0.9334 - val_loss: 0.2028 - val_accuracy: 0.9264\n",
            "Epoch 7/10\n",
            "1875/1875 [==============================] - 9s 5ms/step - loss: 0.1717 - accuracy: 0.9357 - val_loss: 0.1966 - val_accuracy: 0.9305\n",
            "Epoch 8/10\n",
            "1875/1875 [==============================] - 8s 4ms/step - loss: 0.1645 - accuracy: 0.9386 - val_loss: 0.2121 - val_accuracy: 0.9262\n",
            "Epoch 9/10\n",
            "1875/1875 [==============================] - 8s 4ms/step - loss: 0.1513 - accuracy: 0.9442 - val_loss: 0.1928 - val_accuracy: 0.9329\n",
            "Epoch 10/10\n",
            "1875/1875 [==============================] - 8s 4ms/step - loss: 0.1418 - accuracy: 0.9465 - val_loss: 0.2038 - val_accuracy: 0.9323\n"
          ],
          "name": "stdout"
        }
      ]
    },
    {
      "cell_type": "markdown",
      "metadata": {
        "id": "MwcFzoqPFKP1"
      },
      "source": [
        "# MODEL EVALUATION"
      ]
    },
    {
      "cell_type": "code",
      "metadata": {
        "colab": {
          "base_uri": "https://localhost:8080/"
        },
        "id": "Q2az6ILFkVUd",
        "outputId": "a5322065-cf6e-4cc7-94d6-befd60886236"
      },
      "source": [
        "model.evaluate(x_train,y_train)"
      ],
      "execution_count": 8,
      "outputs": [
        {
          "output_type": "stream",
          "text": [
            "1875/1875 [==============================] - 6s 3ms/step - loss: 0.0881 - accuracy: 0.9672\n"
          ],
          "name": "stdout"
        },
        {
          "output_type": "execute_result",
          "data": {
            "text/plain": [
              "[0.0880771204829216, 0.967199981212616]"
            ]
          },
          "metadata": {
            "tags": []
          },
          "execution_count": 8
        }
      ]
    },
    {
      "cell_type": "code",
      "metadata": {
        "colab": {
          "base_uri": "https://localhost:8080/"
        },
        "id": "HLZSgmbskY6g",
        "outputId": "e32d6de8-c82d-40a6-ee17-443e1cfa5136"
      },
      "source": [
        "model.evaluate(x_test,y_test)"
      ],
      "execution_count": 9,
      "outputs": [
        {
          "output_type": "stream",
          "text": [
            "313/313 [==============================] - 1s 3ms/step - loss: 0.2038 - accuracy: 0.9323\n"
          ],
          "name": "stdout"
        },
        {
          "output_type": "execute_result",
          "data": {
            "text/plain": [
              "[0.20379504561424255, 0.9322999715805054]"
            ]
          },
          "metadata": {
            "tags": []
          },
          "execution_count": 9
        }
      ]
    },
    {
      "cell_type": "markdown",
      "metadata": {
        "id": "Dh7C1Hc1FO_9"
      },
      "source": [
        "THE MODEL HAS PRODUCED THE FOLLOWING\n",
        "\n",
        "\n",
        "TRAINING LOSS- 0.088\n",
        "\n",
        "TRAINING ACCURACY- 96.7%\n",
        "\n",
        "VALIDATION LOSS- 0.203\n",
        "\n",
        "VALIDATION ACCURACY- 93.2%"
      ]
    },
    {
      "cell_type": "markdown",
      "metadata": {
        "id": "btEQw1ryFZp6"
      },
      "source": [
        "#LOSS AND ACCURACY PLOTS OF THE MODEL"
      ]
    },
    {
      "cell_type": "code",
      "metadata": {
        "id": "7p8RWuehTeCh",
        "colab": {
          "base_uri": "https://localhost:8080/",
          "height": 312
        },
        "outputId": "b858eed4-7693-4f58-c51f-f864e792c2ff"
      },
      "source": [
        "plt.plot(history.history['accuracy'])\n",
        "plt.plot(history.history['val_accuracy'])\n",
        "plt.title('accuracy plot')\n",
        "plt.xlabel('epochs')\n",
        "plt.ylabel('accuracy')\n",
        "plt.legend(['train','validation'])\n"
      ],
      "execution_count": 10,
      "outputs": [
        {
          "output_type": "execute_result",
          "data": {
            "text/plain": [
              "<matplotlib.legend.Legend at 0x7febda3c9d50>"
            ]
          },
          "metadata": {
            "tags": []
          },
          "execution_count": 10
        },
        {
          "output_type": "display_data",
          "data": {
            "image/png": "[encoded data removed]",
            "text/plain": [
              "<Figure size 432x288 with 1 Axes>"
            ]
          },
          "metadata": {
            "tags": [],
            "needs_background": "light"
          }
        }
      ]
    },
    {
      "cell_type": "code",
      "metadata": {
        "colab": {
          "base_uri": "https://localhost:8080/",
          "height": 312
        },
        "id": "XZ3cFIZ-kI2F",
        "outputId": "473723e4-0a51-4e3b-e715-d1fe910b3db4"
      },
      "source": [
        "plt.plot(history.history['loss'])\n",
        "plt.plot(history.history['val_loss'])\n",
        "plt.title('loss plot')\n",
        "plt.xlabel('epochs')\n",
        "plt.ylabel('loss')\n",
        "plt.legend(['train','validation'])"
      ],
      "execution_count": 11,
      "outputs": [
        {
          "output_type": "execute_result",
          "data": {
            "text/plain": [
              "<matplotlib.legend.Legend at 0x7febca6e6c90>"
            ]
          },
          "metadata": {
            "tags": []
          },
          "execution_count": 11
        },
        {
          "output_type": "display_data",
          "data": {
            "image/png": "[encoded data removed]",
            "text/plain": [
              "<Figure size 432x288 with 1 Axes>"
            ]
          },
          "metadata": {
            "tags": [],
            "needs_background": "light"
          }
        }
      ]
    },
    {
      "cell_type": "markdown",
      "metadata": {
        "id": "z85iOVpsFfpF"
      },
      "source": [
        "#MODEL PREDICTION\n",
        "\n",
        "this is a simple code used to check one sample from the testing data.\n",
        "\n",
        "this code displays the prediction of the model and the truth and based on their relationship, it gives a statement about the model"
      ]
    },
    {
      "cell_type": "code",
      "metadata": {
        "colab": {
          "base_uri": "https://localhost:8080/"
        },
        "id": "x4hxW4-OnysJ",
        "outputId": "fde75b30-eafa-47f2-e234-ed295ac61fcd"
      },
      "source": [
        "\n",
        "ypred= model.predict(x_test)\n",
        "pred=np.argmax(ypred[0])\n",
        "truth=np.argmax(y_test[0])\n",
        "if pred==truth:\n",
        "  print(\"the predicted class is\",pred)\n",
        "  print(\"the true class is\",truth)\n",
        "  print(\"Hence the model is working properly\")\n",
        "else:\n",
        "  print(\"the predicted class is\",pred)\n",
        "  print(\"the true class is\",truth)\n",
        "  print(\"there is an error in the model\")    \n"
      ],
      "execution_count": 26,
      "outputs": [
        {
          "output_type": "stream",
          "text": [
            "the predicted class is 9\n",
            "the true class is 9\n",
            "Hence the model is working properly\n"
          ],
          "name": "stdout"
        }
      ]
    },
    {
      "cell_type": "markdown",
      "metadata": {
        "id": "2fOD9og8F2aS"
      },
      "source": [
        "this method allows us to take images from outside source and then use them for prediction.\n",
        "\n",
        "I will be providing some images for testing along with their real class to evaluate the model\n",
        "\n",
        "or you can try searching for \"grayscale images for fashion mnist\" in google and obtain the testing images\n",
        "\n"
      ]
    },
    {
      "cell_type": "code",
      "metadata": {
        "colab": {
          "base_uri": "https://localhost:8080/",
          "height": 408
        },
        "id": "L37-d7mu-yqm",
        "outputId": "e029b7f6-fc6f-4148-ec23-0695f246aded"
      },
      "source": [
        "print('PROJECT TESTING')\n",
        "from keras.preprocessing import image\n",
        "img = image.load_img('images (3).jpeg',color_mode = \"grayscale\",target_size=(28,28))\n",
        "imag = image.img_to_array(img)\n",
        "imag = imag.reshape(1, 28, 28, 1)\n",
        "image = imag.astype('float32')\n",
        "image = image / 255.0\n",
        "ypred = model.predict(image)\n",
        "output=np.argmax(ypred)\n",
        "if output==0: \n",
        "    y='T-shirt/top' \n",
        "elif output==1: \n",
        "    y='Trouser'\n",
        "elif output==2: \n",
        "    y='Pullover' \n",
        "elif output==3: \n",
        "    y='Dress' \n",
        "elif output==4: \n",
        "    y='Coat' \n",
        "elif output==5: \n",
        "    y='Sandal' \n",
        "elif output==6: \n",
        "    y='Shirt' \n",
        "elif output==7: \n",
        "    y='Sneaker' \n",
        "elif output==8: \n",
        "    y='Bag' \n",
        "elif output==9: \n",
        "    y='Ankle Boot'\n",
        "def plot_img(img):\n",
        "  plt.figure(figsize=(6,6))\n",
        "  plt.imshow(img)  \n",
        "  plt.title('')\n",
        "  plt.axis('off')\n",
        "plot_img(img)\n",
        "print('The uploaded image is classified as:'+str(y))\n",
        "print('THANK YOU FOR USING THIS PROJECT. HOPE THIS HELPS!!!!')"
      ],
      "execution_count": 43,
      "outputs": [
        {
          "output_type": "stream",
          "text": [
            "PROJECT TESTING\n",
            "The uploaded image is classified as:Trouser\n",
            "THANK YOU FOR USING THIS PROJECT. HOPE THIS HELPS!!!!\n"
          ],
          "name": "stdout"
        },
        {
          "output_type": "display_data",
          "data": {
            "image/png": "[encoded data removed]",
            "text/plain": [
              "<Figure size 432x432 with 1 Axes>"
            ]
          },
          "metadata": {
            "tags": [],
            "needs_background": "light"
          }
        }
      ]
    }
  ]
}